{
  "nbformat": 4,
  "nbformat_minor": 0,
  "metadata": {
    "colab": {
      "name": "CMPE297-Assignment1.ipynb",
      "provenance": [],
      "collapsed_sections": [],
      "mount_file_id": "17OCqtvGAq2lsdYaGOFEQNY4MWBRCI0h5",
      "authorship_tag": "ABX9TyPxHqGXXoPMN7s+vqFVlOFo",
      "include_colab_link": true
    },
    "kernelspec": {
      "name": "python3",
      "display_name": "Python 3"
    },
    "accelerator": "GPU"
  },
  "cells": [
    {
      "cell_type": "markdown",
      "metadata": {
        "id": "view-in-github",
        "colab_type": "text"
      },
      "source": [
        "<a href=\"https://colab.research.google.com/github/bhuvanabasapur/CMPE-257/blob/main/CMPE297_Assignment1.ipynb\" target=\"_parent\"><img src=\"https://colab.research.google.com/assets/colab-badge.svg\" alt=\"Open In Colab\"/></a>"
      ]
    },
    {
      "cell_type": "code",
      "metadata": {
        "colab": {
          "base_uri": "https://localhost:8080/"
        },
        "id": "RJnMAN3qhVEV",
        "outputId": "74627710-6bf4-4b5c-8782-d21e00fdcba9"
      },
      "source": [
        "from google.colab import drive\n",
        "drive.mount('/content/gdrive')"
      ],
      "execution_count": 2,
      "outputs": [
        {
          "output_type": "stream",
          "text": [
            "Drive already mounted at /content/gdrive; to attempt to forcibly remount, call drive.mount(\"/content/gdrive\", force_remount=True).\n"
          ],
          "name": "stdout"
        }
      ]
    },
    {
      "cell_type": "code",
      "metadata": {
        "colab": {
          "base_uri": "https://localhost:8080/"
        },
        "id": "sVDi5HL8h2h1",
        "outputId": "29960d55-f702-4304-ba7e-f7d9f0599452"
      },
      "source": [
        "import pandas as pd\n",
        "import random\n",
        "file = \"/content/gdrive/MyDrive/Colab Notebooks/CMPE 257/Asteroid_Updated.csv\"\n",
        "n = sum(1 for line in open(file)) - 1 #number of records in file (excludes header)\n",
        "s = 100000 #desired sample size\n",
        "skip = sorted(random.sample(range(1,n+1),n-s)) #the 0-indexed header will not be included in the skip list\n",
        "df = pd.read_csv(file, skiprows=skip)\n"
      ],
      "execution_count": 3,
      "outputs": [
        {
          "output_type": "stream",
          "text": [
            "/usr/local/lib/python3.6/dist-packages/IPython/core/interactiveshell.py:2718: DtypeWarning: Columns (0,10,16,23,24) have mixed types.Specify dtype option on import or set low_memory=False.\n",
            "  interactivity=interactivity, compiler=compiler, result=result)\n"
          ],
          "name": "stderr"
        }
      ]
    },
    {
      "cell_type": "code",
      "metadata": {
        "colab": {
          "base_uri": "https://localhost:8080/"
        },
        "id": "3px8_BLljG0T",
        "outputId": "2bd03634-22d7-4e3b-9353-15dad6ceb560"
      },
      "source": [
        "df.info()"
      ],
      "execution_count": 4,
      "outputs": [
        {
          "output_type": "stream",
          "text": [
            "<class 'pandas.core.frame.DataFrame'>\n",
            "RangeIndex: 100000 entries, 0 to 99999\n",
            "Data columns (total 31 columns):\n",
            " #   Column          Non-Null Count   Dtype  \n",
            "---  ------          --------------   -----  \n",
            " 0   name            2545 non-null    object \n",
            " 1   a               100000 non-null  float64\n",
            " 2   e               100000 non-null  float64\n",
            " 3   i               100000 non-null  float64\n",
            " 4   om              100000 non-null  float64\n",
            " 5   w               100000 non-null  float64\n",
            " 6   q               100000 non-null  float64\n",
            " 7   ad              100000 non-null  float64\n",
            " 8   per_y           100000 non-null  float64\n",
            " 9   data_arc        98089 non-null   float64\n",
            " 10  condition_code  99897 non-null   object \n",
            " 11  n_obs_used      100000 non-null  int64  \n",
            " 12  H               99688 non-null   float64\n",
            " 13  neo             100000 non-null  object \n",
            " 14  pha             97990 non-null   object \n",
            " 15  diameter        16398 non-null   float64\n",
            " 16  extent          1 non-null       object \n",
            " 17  albedo          16242 non-null   float64\n",
            " 18  rot_per         2148 non-null    float64\n",
            " 19  GM              1 non-null       float64\n",
            " 20  BV              113 non-null     float64\n",
            " 21  UB              108 non-null     float64\n",
            " 22  IR              0 non-null       float64\n",
            " 23  spec_B          186 non-null     object \n",
            " 24  spec_T          110 non-null     object \n",
            " 25  G               13 non-null      float64\n",
            " 26  moid            97990 non-null   float64\n",
            " 27  class           100000 non-null  object \n",
            " 28  n               100000 non-null  float64\n",
            " 29  per             100000 non-null  float64\n",
            " 30  ma              99999 non-null   float64\n",
            "dtypes: float64(22), int64(1), object(8)\n",
            "memory usage: 23.7+ MB\n"
          ],
          "name": "stdout"
        }
      ]
    },
    {
      "cell_type": "code",
      "metadata": {
        "colab": {
          "base_uri": "https://localhost:8080/",
          "height": 413
        },
        "id": "9iNcNOmbjMB_",
        "outputId": "9dd619ab-663b-4aeb-9c04-27038c31bfb7"
      },
      "source": [
        "df.head(10)"
      ],
      "execution_count": 5,
      "outputs": [
        {
          "output_type": "execute_result",
          "data": {
            "text/html": [
              "<div>\n",
              "<style scoped>\n",
              "    .dataframe tbody tr th:only-of-type {\n",
              "        vertical-align: middle;\n",
              "    }\n",
              "\n",
              "    .dataframe tbody tr th {\n",
              "        vertical-align: top;\n",
              "    }\n",
              "\n",
              "    .dataframe thead th {\n",
              "        text-align: right;\n",
              "    }\n",
              "</style>\n",
              "<table border=\"1\" class=\"dataframe\">\n",
              "  <thead>\n",
              "    <tr style=\"text-align: right;\">\n",
              "      <th></th>\n",
              "      <th>name</th>\n",
              "      <th>a</th>\n",
              "      <th>e</th>\n",
              "      <th>i</th>\n",
              "      <th>om</th>\n",
              "      <th>w</th>\n",
              "      <th>q</th>\n",
              "      <th>ad</th>\n",
              "      <th>per_y</th>\n",
              "      <th>data_arc</th>\n",
              "      <th>condition_code</th>\n",
              "      <th>n_obs_used</th>\n",
              "      <th>H</th>\n",
              "      <th>neo</th>\n",
              "      <th>pha</th>\n",
              "      <th>diameter</th>\n",
              "      <th>extent</th>\n",
              "      <th>albedo</th>\n",
              "      <th>rot_per</th>\n",
              "      <th>GM</th>\n",
              "      <th>BV</th>\n",
              "      <th>UB</th>\n",
              "      <th>IR</th>\n",
              "      <th>spec_B</th>\n",
              "      <th>spec_T</th>\n",
              "      <th>G</th>\n",
              "      <th>moid</th>\n",
              "      <th>class</th>\n",
              "      <th>n</th>\n",
              "      <th>per</th>\n",
              "      <th>ma</th>\n",
              "    </tr>\n",
              "  </thead>\n",
              "  <tbody>\n",
              "    <tr>\n",
              "      <th>0</th>\n",
              "      <td>Vesta</td>\n",
              "      <td>2.361418</td>\n",
              "      <td>0.088721</td>\n",
              "      <td>7.141771</td>\n",
              "      <td>103.810804</td>\n",
              "      <td>150.728541</td>\n",
              "      <td>2.151909</td>\n",
              "      <td>2.570926</td>\n",
              "      <td>3.628837</td>\n",
              "      <td>24288.0</td>\n",
              "      <td>0</td>\n",
              "      <td>9325</td>\n",
              "      <td>3.20</td>\n",
              "      <td>N</td>\n",
              "      <td>N</td>\n",
              "      <td>525.400</td>\n",
              "      <td>572.6 x 557.2 x 446.4</td>\n",
              "      <td>0.4228</td>\n",
              "      <td>5.342128</td>\n",
              "      <td>17.8</td>\n",
              "      <td>0.782</td>\n",
              "      <td>0.492</td>\n",
              "      <td>NaN</td>\n",
              "      <td>V</td>\n",
              "      <td>V</td>\n",
              "      <td>0.32</td>\n",
              "      <td>1.139480</td>\n",
              "      <td>MBA</td>\n",
              "      <td>0.271609</td>\n",
              "      <td>1325.432765</td>\n",
              "      <td>95.861936</td>\n",
              "    </tr>\n",
              "    <tr>\n",
              "      <th>1</th>\n",
              "      <td>Iris</td>\n",
              "      <td>2.385334</td>\n",
              "      <td>0.231206</td>\n",
              "      <td>5.523651</td>\n",
              "      <td>259.563231</td>\n",
              "      <td>145.265106</td>\n",
              "      <td>1.833831</td>\n",
              "      <td>2.936837</td>\n",
              "      <td>3.684105</td>\n",
              "      <td>62452.0</td>\n",
              "      <td>0</td>\n",
              "      <td>5206</td>\n",
              "      <td>5.51</td>\n",
              "      <td>N</td>\n",
              "      <td>N</td>\n",
              "      <td>199.830</td>\n",
              "      <td>NaN</td>\n",
              "      <td>0.2766</td>\n",
              "      <td>7.139000</td>\n",
              "      <td>NaN</td>\n",
              "      <td>0.855</td>\n",
              "      <td>0.484</td>\n",
              "      <td>NaN</td>\n",
              "      <td>S</td>\n",
              "      <td>S</td>\n",
              "      <td>NaN</td>\n",
              "      <td>0.846100</td>\n",
              "      <td>MBA</td>\n",
              "      <td>0.267535</td>\n",
              "      <td>1345.619196</td>\n",
              "      <td>140.419656</td>\n",
              "    </tr>\n",
              "    <tr>\n",
              "      <th>2</th>\n",
              "      <td>Proserpina</td>\n",
              "      <td>2.654331</td>\n",
              "      <td>0.090145</td>\n",
              "      <td>3.563413</td>\n",
              "      <td>45.778003</td>\n",
              "      <td>193.449778</td>\n",
              "      <td>2.415057</td>\n",
              "      <td>2.893605</td>\n",
              "      <td>4.324549</td>\n",
              "      <td>57981.0</td>\n",
              "      <td>0</td>\n",
              "      <td>2320</td>\n",
              "      <td>7.40</td>\n",
              "      <td>N</td>\n",
              "      <td>N</td>\n",
              "      <td>94.800</td>\n",
              "      <td>NaN</td>\n",
              "      <td>0.1966</td>\n",
              "      <td>13.110000</td>\n",
              "      <td>NaN</td>\n",
              "      <td>0.891</td>\n",
              "      <td>0.525</td>\n",
              "      <td>NaN</td>\n",
              "      <td>S</td>\n",
              "      <td>S</td>\n",
              "      <td>NaN</td>\n",
              "      <td>1.402870</td>\n",
              "      <td>MBA</td>\n",
              "      <td>0.227914</td>\n",
              "      <td>1579.541423</td>\n",
              "      <td>105.723603</td>\n",
              "    </tr>\n",
              "    <tr>\n",
              "      <th>3</th>\n",
              "      <td>Amphitrite</td>\n",
              "      <td>2.554114</td>\n",
              "      <td>0.072696</td>\n",
              "      <td>6.082523</td>\n",
              "      <td>356.341767</td>\n",
              "      <td>63.363240</td>\n",
              "      <td>2.368441</td>\n",
              "      <td>2.739786</td>\n",
              "      <td>4.081958</td>\n",
              "      <td>59923.0</td>\n",
              "      <td>0</td>\n",
              "      <td>2318</td>\n",
              "      <td>5.85</td>\n",
              "      <td>N</td>\n",
              "      <td>N</td>\n",
              "      <td>189.559</td>\n",
              "      <td>NaN</td>\n",
              "      <td>0.2160</td>\n",
              "      <td>5.392100</td>\n",
              "      <td>NaN</td>\n",
              "      <td>0.838</td>\n",
              "      <td>0.449</td>\n",
              "      <td>NaN</td>\n",
              "      <td>S</td>\n",
              "      <td>S</td>\n",
              "      <td>0.20</td>\n",
              "      <td>1.387100</td>\n",
              "      <td>MBA</td>\n",
              "      <td>0.241459</td>\n",
              "      <td>1490.935075</td>\n",
              "      <td>284.235315</td>\n",
              "    </tr>\n",
              "    <tr>\n",
              "      <th>4</th>\n",
              "      <td>Urania</td>\n",
              "      <td>2.365572</td>\n",
              "      <td>0.127581</td>\n",
              "      <td>2.095744</td>\n",
              "      <td>307.468613</td>\n",
              "      <td>87.426207</td>\n",
              "      <td>2.063770</td>\n",
              "      <td>2.667374</td>\n",
              "      <td>3.638417</td>\n",
              "      <td>58325.0</td>\n",
              "      <td>0</td>\n",
              "      <td>3332</td>\n",
              "      <td>7.57</td>\n",
              "      <td>N</td>\n",
              "      <td>N</td>\n",
              "      <td>92.787</td>\n",
              "      <td>NaN</td>\n",
              "      <td>0.1920</td>\n",
              "      <td>13.686000</td>\n",
              "      <td>NaN</td>\n",
              "      <td>0.873</td>\n",
              "      <td>0.459</td>\n",
              "      <td>NaN</td>\n",
              "      <td>Sl</td>\n",
              "      <td>S</td>\n",
              "      <td>NaN</td>\n",
              "      <td>1.070900</td>\n",
              "      <td>MBA</td>\n",
              "      <td>0.270894</td>\n",
              "      <td>1328.931884</td>\n",
              "      <td>29.097935</td>\n",
              "    </tr>\n",
              "    <tr>\n",
              "      <th>5</th>\n",
              "      <td>Circe</td>\n",
              "      <td>2.687383</td>\n",
              "      <td>0.105948</td>\n",
              "      <td>5.496017</td>\n",
              "      <td>184.361310</td>\n",
              "      <td>330.676144</td>\n",
              "      <td>2.402660</td>\n",
              "      <td>2.972106</td>\n",
              "      <td>4.405576</td>\n",
              "      <td>56799.0</td>\n",
              "      <td>0</td>\n",
              "      <td>3250</td>\n",
              "      <td>8.51</td>\n",
              "      <td>N</td>\n",
              "      <td>N</td>\n",
              "      <td>132.992</td>\n",
              "      <td>NaN</td>\n",
              "      <td>0.0520</td>\n",
              "      <td>12.150000</td>\n",
              "      <td>NaN</td>\n",
              "      <td>0.707</td>\n",
              "      <td>0.357</td>\n",
              "      <td>NaN</td>\n",
              "      <td>Ch</td>\n",
              "      <td>C</td>\n",
              "      <td>NaN</td>\n",
              "      <td>1.414350</td>\n",
              "      <td>MBA</td>\n",
              "      <td>0.223722</td>\n",
              "      <td>1609.136457</td>\n",
              "      <td>126.686961</td>\n",
              "    </tr>\n",
              "    <tr>\n",
              "      <th>6</th>\n",
              "      <td>Atalante</td>\n",
              "      <td>2.746824</td>\n",
              "      <td>0.304906</td>\n",
              "      <td>18.369263</td>\n",
              "      <td>358.210032</td>\n",
              "      <td>47.796533</td>\n",
              "      <td>1.909301</td>\n",
              "      <td>3.584347</td>\n",
              "      <td>4.552547</td>\n",
              "      <td>56148.0</td>\n",
              "      <td>0</td>\n",
              "      <td>1777</td>\n",
              "      <td>8.46</td>\n",
              "      <td>N</td>\n",
              "      <td>N</td>\n",
              "      <td>115.204</td>\n",
              "      <td>NaN</td>\n",
              "      <td>0.0360</td>\n",
              "      <td>9.930000</td>\n",
              "      <td>NaN</td>\n",
              "      <td>0.713</td>\n",
              "      <td>0.363</td>\n",
              "      <td>NaN</td>\n",
              "      <td>NaN</td>\n",
              "      <td>C</td>\n",
              "      <td>NaN</td>\n",
              "      <td>0.959267</td>\n",
              "      <td>MBA</td>\n",
              "      <td>0.216500</td>\n",
              "      <td>1662.817848</td>\n",
              "      <td>299.729035</td>\n",
              "    </tr>\n",
              "    <tr>\n",
              "      <th>7</th>\n",
              "      <td>Hestia</td>\n",
              "      <td>2.525788</td>\n",
              "      <td>0.172002</td>\n",
              "      <td>2.349674</td>\n",
              "      <td>181.087489</td>\n",
              "      <td>177.417167</td>\n",
              "      <td>2.091347</td>\n",
              "      <td>2.960230</td>\n",
              "      <td>4.014243</td>\n",
              "      <td>56821.0</td>\n",
              "      <td>0</td>\n",
              "      <td>3401</td>\n",
              "      <td>8.36</td>\n",
              "      <td>N</td>\n",
              "      <td>N</td>\n",
              "      <td>112.414</td>\n",
              "      <td>NaN</td>\n",
              "      <td>0.0460</td>\n",
              "      <td>21.040000</td>\n",
              "      <td>NaN</td>\n",
              "      <td>0.692</td>\n",
              "      <td>0.226</td>\n",
              "      <td>NaN</td>\n",
              "      <td>Xc</td>\n",
              "      <td>P</td>\n",
              "      <td>0.06</td>\n",
              "      <td>1.086710</td>\n",
              "      <td>MBA</td>\n",
              "      <td>0.245532</td>\n",
              "      <td>1466.202262</td>\n",
              "      <td>69.900434</td>\n",
              "    </tr>\n",
              "    <tr>\n",
              "      <th>8</th>\n",
              "      <td>Aglaja</td>\n",
              "      <td>2.881429</td>\n",
              "      <td>0.129807</td>\n",
              "      <td>4.975208</td>\n",
              "      <td>3.081370</td>\n",
              "      <td>314.687300</td>\n",
              "      <td>2.507399</td>\n",
              "      <td>3.255460</td>\n",
              "      <td>4.891254</td>\n",
              "      <td>58323.0</td>\n",
              "      <td>0</td>\n",
              "      <td>2953</td>\n",
              "      <td>7.84</td>\n",
              "      <td>N</td>\n",
              "      <td>N</td>\n",
              "      <td>168.174</td>\n",
              "      <td>NaN</td>\n",
              "      <td>0.0820</td>\n",
              "      <td>13.178000</td>\n",
              "      <td>NaN</td>\n",
              "      <td>0.665</td>\n",
              "      <td>0.300</td>\n",
              "      <td>NaN</td>\n",
              "      <td>B</td>\n",
              "      <td>C</td>\n",
              "      <td>0.16</td>\n",
              "      <td>1.496610</td>\n",
              "      <td>MBA</td>\n",
              "      <td>0.201508</td>\n",
              "      <td>1786.530377</td>\n",
              "      <td>52.278845</td>\n",
              "    </tr>\n",
              "    <tr>\n",
              "      <th>9</th>\n",
              "      <td>Niobe</td>\n",
              "      <td>2.756530</td>\n",
              "      <td>0.173322</td>\n",
              "      <td>23.262422</td>\n",
              "      <td>316.004320</td>\n",
              "      <td>266.975061</td>\n",
              "      <td>2.278762</td>\n",
              "      <td>3.234297</td>\n",
              "      <td>4.576697</td>\n",
              "      <td>56731.0</td>\n",
              "      <td>0</td>\n",
              "      <td>2419</td>\n",
              "      <td>7.30</td>\n",
              "      <td>N</td>\n",
              "      <td>N</td>\n",
              "      <td>83.420</td>\n",
              "      <td>NaN</td>\n",
              "      <td>0.3052</td>\n",
              "      <td>35.864000</td>\n",
              "      <td>NaN</td>\n",
              "      <td>0.803</td>\n",
              "      <td>0.439</td>\n",
              "      <td>NaN</td>\n",
              "      <td>Xe</td>\n",
              "      <td>S</td>\n",
              "      <td>0.40</td>\n",
              "      <td>1.409540</td>\n",
              "      <td>MBA</td>\n",
              "      <td>0.215358</td>\n",
              "      <td>1671.638659</td>\n",
              "      <td>264.052853</td>\n",
              "    </tr>\n",
              "  </tbody>\n",
              "</table>\n",
              "</div>"
            ],
            "text/plain": [
              "         name         a         e  ...         n          per          ma\n",
              "0       Vesta  2.361418  0.088721  ...  0.271609  1325.432765   95.861936\n",
              "1        Iris  2.385334  0.231206  ...  0.267535  1345.619196  140.419656\n",
              "2  Proserpina  2.654331  0.090145  ...  0.227914  1579.541423  105.723603\n",
              "3  Amphitrite  2.554114  0.072696  ...  0.241459  1490.935075  284.235315\n",
              "4      Urania  2.365572  0.127581  ...  0.270894  1328.931884   29.097935\n",
              "5       Circe  2.687383  0.105948  ...  0.223722  1609.136457  126.686961\n",
              "6    Atalante  2.746824  0.304906  ...  0.216500  1662.817848  299.729035\n",
              "7      Hestia  2.525788  0.172002  ...  0.245532  1466.202262   69.900434\n",
              "8      Aglaja  2.881429  0.129807  ...  0.201508  1786.530377   52.278845\n",
              "9       Niobe  2.756530  0.173322  ...  0.215358  1671.638659  264.052853\n",
              "\n",
              "[10 rows x 31 columns]"
            ]
          },
          "metadata": {
            "tags": []
          },
          "execution_count": 5
        }
      ]
    },
    {
      "cell_type": "code",
      "metadata": {
        "id": "IP79b19AllA9"
      },
      "source": [
        "import numpy as np\n",
        "import matplotlib.pyplot as plt\n",
        "from mpl_toolkits.mplot3d import Axes3D"
      ],
      "execution_count": 6,
      "outputs": []
    },
    {
      "cell_type": "code",
      "metadata": {
        "id": "QPiDur6WrAse"
      },
      "source": [
        "def missing_percentage(df):\n",
        "    total = df.isnull().sum().sort_values(ascending = False)\n",
        "    percent = round(df.isnull().sum().sort_values(ascending = False)/len(df)*100,2)\n",
        "    return pd.concat([total, percent], axis=1, keys=['Total','Percent'])\n",
        "\n",
        "def percent_value_counts(df, feature):\n",
        "    percent = pd.DataFrame(round(df.loc[:,feature].value_counts(dropna=False, normalize=True)*100,2))\n",
        "    total = pd.DataFrame(df.loc[:,feature].value_counts(dropna=False))\n",
        "    total.columns = [\"Total\"]\n",
        "    percent.columns = ['Percent']\n",
        "    return pd.concat([total, percent], axis = 1)"
      ],
      "execution_count": 7,
      "outputs": []
    },
    {
      "cell_type": "code",
      "metadata": {
        "colab": {
          "base_uri": "https://localhost:8080/",
          "height": 1000
        },
        "id": "B0XbOsYxrP1-",
        "outputId": "45f76627-3aed-460c-e438-84fc0b4d67e9"
      },
      "source": [
        "missing_percentage(df)"
      ],
      "execution_count": 8,
      "outputs": [
        {
          "output_type": "execute_result",
          "data": {
            "text/html": [
              "<div>\n",
              "<style scoped>\n",
              "    .dataframe tbody tr th:only-of-type {\n",
              "        vertical-align: middle;\n",
              "    }\n",
              "\n",
              "    .dataframe tbody tr th {\n",
              "        vertical-align: top;\n",
              "    }\n",
              "\n",
              "    .dataframe thead th {\n",
              "        text-align: right;\n",
              "    }\n",
              "</style>\n",
              "<table border=\"1\" class=\"dataframe\">\n",
              "  <thead>\n",
              "    <tr style=\"text-align: right;\">\n",
              "      <th></th>\n",
              "      <th>Total</th>\n",
              "      <th>Percent</th>\n",
              "    </tr>\n",
              "  </thead>\n",
              "  <tbody>\n",
              "    <tr>\n",
              "      <th>IR</th>\n",
              "      <td>100000</td>\n",
              "      <td>100.00</td>\n",
              "    </tr>\n",
              "    <tr>\n",
              "      <th>GM</th>\n",
              "      <td>99999</td>\n",
              "      <td>100.00</td>\n",
              "    </tr>\n",
              "    <tr>\n",
              "      <th>extent</th>\n",
              "      <td>99999</td>\n",
              "      <td>100.00</td>\n",
              "    </tr>\n",
              "    <tr>\n",
              "      <th>G</th>\n",
              "      <td>99987</td>\n",
              "      <td>99.99</td>\n",
              "    </tr>\n",
              "    <tr>\n",
              "      <th>UB</th>\n",
              "      <td>99892</td>\n",
              "      <td>99.89</td>\n",
              "    </tr>\n",
              "    <tr>\n",
              "      <th>spec_T</th>\n",
              "      <td>99890</td>\n",
              "      <td>99.89</td>\n",
              "    </tr>\n",
              "    <tr>\n",
              "      <th>BV</th>\n",
              "      <td>99887</td>\n",
              "      <td>99.89</td>\n",
              "    </tr>\n",
              "    <tr>\n",
              "      <th>spec_B</th>\n",
              "      <td>99814</td>\n",
              "      <td>99.81</td>\n",
              "    </tr>\n",
              "    <tr>\n",
              "      <th>rot_per</th>\n",
              "      <td>97852</td>\n",
              "      <td>97.85</td>\n",
              "    </tr>\n",
              "    <tr>\n",
              "      <th>name</th>\n",
              "      <td>97455</td>\n",
              "      <td>97.46</td>\n",
              "    </tr>\n",
              "    <tr>\n",
              "      <th>albedo</th>\n",
              "      <td>83758</td>\n",
              "      <td>83.76</td>\n",
              "    </tr>\n",
              "    <tr>\n",
              "      <th>diameter</th>\n",
              "      <td>83602</td>\n",
              "      <td>83.60</td>\n",
              "    </tr>\n",
              "    <tr>\n",
              "      <th>moid</th>\n",
              "      <td>2010</td>\n",
              "      <td>2.01</td>\n",
              "    </tr>\n",
              "    <tr>\n",
              "      <th>pha</th>\n",
              "      <td>2010</td>\n",
              "      <td>2.01</td>\n",
              "    </tr>\n",
              "    <tr>\n",
              "      <th>data_arc</th>\n",
              "      <td>1911</td>\n",
              "      <td>1.91</td>\n",
              "    </tr>\n",
              "    <tr>\n",
              "      <th>H</th>\n",
              "      <td>312</td>\n",
              "      <td>0.31</td>\n",
              "    </tr>\n",
              "    <tr>\n",
              "      <th>condition_code</th>\n",
              "      <td>103</td>\n",
              "      <td>0.10</td>\n",
              "    </tr>\n",
              "    <tr>\n",
              "      <th>ma</th>\n",
              "      <td>1</td>\n",
              "      <td>0.00</td>\n",
              "    </tr>\n",
              "    <tr>\n",
              "      <th>per</th>\n",
              "      <td>0</td>\n",
              "      <td>0.00</td>\n",
              "    </tr>\n",
              "    <tr>\n",
              "      <th>n</th>\n",
              "      <td>0</td>\n",
              "      <td>0.00</td>\n",
              "    </tr>\n",
              "    <tr>\n",
              "      <th>neo</th>\n",
              "      <td>0</td>\n",
              "      <td>0.00</td>\n",
              "    </tr>\n",
              "    <tr>\n",
              "      <th>n_obs_used</th>\n",
              "      <td>0</td>\n",
              "      <td>0.00</td>\n",
              "    </tr>\n",
              "    <tr>\n",
              "      <th>class</th>\n",
              "      <td>0</td>\n",
              "      <td>0.00</td>\n",
              "    </tr>\n",
              "    <tr>\n",
              "      <th>per_y</th>\n",
              "      <td>0</td>\n",
              "      <td>0.00</td>\n",
              "    </tr>\n",
              "    <tr>\n",
              "      <th>ad</th>\n",
              "      <td>0</td>\n",
              "      <td>0.00</td>\n",
              "    </tr>\n",
              "    <tr>\n",
              "      <th>q</th>\n",
              "      <td>0</td>\n",
              "      <td>0.00</td>\n",
              "    </tr>\n",
              "    <tr>\n",
              "      <th>w</th>\n",
              "      <td>0</td>\n",
              "      <td>0.00</td>\n",
              "    </tr>\n",
              "    <tr>\n",
              "      <th>om</th>\n",
              "      <td>0</td>\n",
              "      <td>0.00</td>\n",
              "    </tr>\n",
              "    <tr>\n",
              "      <th>i</th>\n",
              "      <td>0</td>\n",
              "      <td>0.00</td>\n",
              "    </tr>\n",
              "    <tr>\n",
              "      <th>e</th>\n",
              "      <td>0</td>\n",
              "      <td>0.00</td>\n",
              "    </tr>\n",
              "    <tr>\n",
              "      <th>a</th>\n",
              "      <td>0</td>\n",
              "      <td>0.00</td>\n",
              "    </tr>\n",
              "  </tbody>\n",
              "</table>\n",
              "</div>"
            ],
            "text/plain": [
              "                 Total  Percent\n",
              "IR              100000   100.00\n",
              "GM               99999   100.00\n",
              "extent           99999   100.00\n",
              "G                99987    99.99\n",
              "UB               99892    99.89\n",
              "spec_T           99890    99.89\n",
              "BV               99887    99.89\n",
              "spec_B           99814    99.81\n",
              "rot_per          97852    97.85\n",
              "name             97455    97.46\n",
              "albedo           83758    83.76\n",
              "diameter         83602    83.60\n",
              "moid              2010     2.01\n",
              "pha               2010     2.01\n",
              "data_arc          1911     1.91\n",
              "H                  312     0.31\n",
              "condition_code     103     0.10\n",
              "ma                   1     0.00\n",
              "per                  0     0.00\n",
              "n                    0     0.00\n",
              "neo                  0     0.00\n",
              "n_obs_used           0     0.00\n",
              "class                0     0.00\n",
              "per_y                0     0.00\n",
              "ad                   0     0.00\n",
              "q                    0     0.00\n",
              "w                    0     0.00\n",
              "om                   0     0.00\n",
              "i                    0     0.00\n",
              "e                    0     0.00\n",
              "a                    0     0.00"
            ]
          },
          "metadata": {
            "tags": []
          },
          "execution_count": 8
        }
      ]
    },
    {
      "cell_type": "markdown",
      "metadata": {
        "id": "Xzquw6o7JY3_"
      },
      "source": [
        "## Data Wrangling"
      ]
    },
    {
      "cell_type": "code",
      "metadata": {
        "id": "wjgFMy8FTIXP"
      },
      "source": [
        "tooMuchNa = df.columns[df.isna().sum()/df.shape[0] > 0.80]\n",
        "df = df.drop(tooMuchNa,axis=1)\n"
      ],
      "execution_count": 9,
      "outputs": []
    },
    {
      "cell_type": "code",
      "metadata": {
        "colab": {
          "base_uri": "https://localhost:8080/",
          "height": 638
        },
        "id": "_FT6SfzSjGCE",
        "outputId": "f95c94e3-e3c8-4bec-e959-ff2ad48e8ee0"
      },
      "source": [
        "missing_percentage(df)"
      ],
      "execution_count": 10,
      "outputs": [
        {
          "output_type": "execute_result",
          "data": {
            "text/html": [
              "<div>\n",
              "<style scoped>\n",
              "    .dataframe tbody tr th:only-of-type {\n",
              "        vertical-align: middle;\n",
              "    }\n",
              "\n",
              "    .dataframe tbody tr th {\n",
              "        vertical-align: top;\n",
              "    }\n",
              "\n",
              "    .dataframe thead th {\n",
              "        text-align: right;\n",
              "    }\n",
              "</style>\n",
              "<table border=\"1\" class=\"dataframe\">\n",
              "  <thead>\n",
              "    <tr style=\"text-align: right;\">\n",
              "      <th></th>\n",
              "      <th>Total</th>\n",
              "      <th>Percent</th>\n",
              "    </tr>\n",
              "  </thead>\n",
              "  <tbody>\n",
              "    <tr>\n",
              "      <th>pha</th>\n",
              "      <td>2010</td>\n",
              "      <td>2.01</td>\n",
              "    </tr>\n",
              "    <tr>\n",
              "      <th>moid</th>\n",
              "      <td>2010</td>\n",
              "      <td>2.01</td>\n",
              "    </tr>\n",
              "    <tr>\n",
              "      <th>data_arc</th>\n",
              "      <td>1911</td>\n",
              "      <td>1.91</td>\n",
              "    </tr>\n",
              "    <tr>\n",
              "      <th>H</th>\n",
              "      <td>312</td>\n",
              "      <td>0.31</td>\n",
              "    </tr>\n",
              "    <tr>\n",
              "      <th>condition_code</th>\n",
              "      <td>103</td>\n",
              "      <td>0.10</td>\n",
              "    </tr>\n",
              "    <tr>\n",
              "      <th>ma</th>\n",
              "      <td>1</td>\n",
              "      <td>0.00</td>\n",
              "    </tr>\n",
              "    <tr>\n",
              "      <th>neo</th>\n",
              "      <td>0</td>\n",
              "      <td>0.00</td>\n",
              "    </tr>\n",
              "    <tr>\n",
              "      <th>class</th>\n",
              "      <td>0</td>\n",
              "      <td>0.00</td>\n",
              "    </tr>\n",
              "    <tr>\n",
              "      <th>n_obs_used</th>\n",
              "      <td>0</td>\n",
              "      <td>0.00</td>\n",
              "    </tr>\n",
              "    <tr>\n",
              "      <th>per</th>\n",
              "      <td>0</td>\n",
              "      <td>0.00</td>\n",
              "    </tr>\n",
              "    <tr>\n",
              "      <th>n</th>\n",
              "      <td>0</td>\n",
              "      <td>0.00</td>\n",
              "    </tr>\n",
              "    <tr>\n",
              "      <th>per_y</th>\n",
              "      <td>0</td>\n",
              "      <td>0.00</td>\n",
              "    </tr>\n",
              "    <tr>\n",
              "      <th>ad</th>\n",
              "      <td>0</td>\n",
              "      <td>0.00</td>\n",
              "    </tr>\n",
              "    <tr>\n",
              "      <th>q</th>\n",
              "      <td>0</td>\n",
              "      <td>0.00</td>\n",
              "    </tr>\n",
              "    <tr>\n",
              "      <th>w</th>\n",
              "      <td>0</td>\n",
              "      <td>0.00</td>\n",
              "    </tr>\n",
              "    <tr>\n",
              "      <th>om</th>\n",
              "      <td>0</td>\n",
              "      <td>0.00</td>\n",
              "    </tr>\n",
              "    <tr>\n",
              "      <th>i</th>\n",
              "      <td>0</td>\n",
              "      <td>0.00</td>\n",
              "    </tr>\n",
              "    <tr>\n",
              "      <th>e</th>\n",
              "      <td>0</td>\n",
              "      <td>0.00</td>\n",
              "    </tr>\n",
              "    <tr>\n",
              "      <th>a</th>\n",
              "      <td>0</td>\n",
              "      <td>0.00</td>\n",
              "    </tr>\n",
              "  </tbody>\n",
              "</table>\n",
              "</div>"
            ],
            "text/plain": [
              "                Total  Percent\n",
              "pha              2010     2.01\n",
              "moid             2010     2.01\n",
              "data_arc         1911     1.91\n",
              "H                 312     0.31\n",
              "condition_code    103     0.10\n",
              "ma                  1     0.00\n",
              "neo                 0     0.00\n",
              "class               0     0.00\n",
              "n_obs_used          0     0.00\n",
              "per                 0     0.00\n",
              "n                   0     0.00\n",
              "per_y               0     0.00\n",
              "ad                  0     0.00\n",
              "q                   0     0.00\n",
              "w                   0     0.00\n",
              "om                  0     0.00\n",
              "i                   0     0.00\n",
              "e                   0     0.00\n",
              "a                   0     0.00"
            ]
          },
          "metadata": {
            "tags": []
          },
          "execution_count": 10
        }
      ]
    },
    {
      "cell_type": "code",
      "metadata": {
        "id": "K33Zpj3q7hhQ"
      },
      "source": [
        "df=df.dropna()"
      ],
      "execution_count": 11,
      "outputs": []
    },
    {
      "cell_type": "code",
      "metadata": {
        "colab": {
          "base_uri": "https://localhost:8080/",
          "height": 379
        },
        "id": "EhfRkUITUuaj",
        "outputId": "05f482f1-1200-4ec3-c2f0-7e45cd428e8d"
      },
      "source": [
        "df.head(10)"
      ],
      "execution_count": 12,
      "outputs": [
        {
          "output_type": "execute_result",
          "data": {
            "text/html": [
              "<div>\n",
              "<style scoped>\n",
              "    .dataframe tbody tr th:only-of-type {\n",
              "        vertical-align: middle;\n",
              "    }\n",
              "\n",
              "    .dataframe tbody tr th {\n",
              "        vertical-align: top;\n",
              "    }\n",
              "\n",
              "    .dataframe thead th {\n",
              "        text-align: right;\n",
              "    }\n",
              "</style>\n",
              "<table border=\"1\" class=\"dataframe\">\n",
              "  <thead>\n",
              "    <tr style=\"text-align: right;\">\n",
              "      <th></th>\n",
              "      <th>a</th>\n",
              "      <th>e</th>\n",
              "      <th>i</th>\n",
              "      <th>om</th>\n",
              "      <th>w</th>\n",
              "      <th>q</th>\n",
              "      <th>ad</th>\n",
              "      <th>per_y</th>\n",
              "      <th>data_arc</th>\n",
              "      <th>condition_code</th>\n",
              "      <th>n_obs_used</th>\n",
              "      <th>H</th>\n",
              "      <th>neo</th>\n",
              "      <th>pha</th>\n",
              "      <th>moid</th>\n",
              "      <th>class</th>\n",
              "      <th>n</th>\n",
              "      <th>per</th>\n",
              "      <th>ma</th>\n",
              "    </tr>\n",
              "  </thead>\n",
              "  <tbody>\n",
              "    <tr>\n",
              "      <th>0</th>\n",
              "      <td>2.361418</td>\n",
              "      <td>0.088721</td>\n",
              "      <td>7.141771</td>\n",
              "      <td>103.810804</td>\n",
              "      <td>150.728541</td>\n",
              "      <td>2.151909</td>\n",
              "      <td>2.570926</td>\n",
              "      <td>3.628837</td>\n",
              "      <td>24288.0</td>\n",
              "      <td>0</td>\n",
              "      <td>9325</td>\n",
              "      <td>3.20</td>\n",
              "      <td>N</td>\n",
              "      <td>N</td>\n",
              "      <td>1.139480</td>\n",
              "      <td>MBA</td>\n",
              "      <td>0.271609</td>\n",
              "      <td>1325.432765</td>\n",
              "      <td>95.861936</td>\n",
              "    </tr>\n",
              "    <tr>\n",
              "      <th>1</th>\n",
              "      <td>2.385334</td>\n",
              "      <td>0.231206</td>\n",
              "      <td>5.523651</td>\n",
              "      <td>259.563231</td>\n",
              "      <td>145.265106</td>\n",
              "      <td>1.833831</td>\n",
              "      <td>2.936837</td>\n",
              "      <td>3.684105</td>\n",
              "      <td>62452.0</td>\n",
              "      <td>0</td>\n",
              "      <td>5206</td>\n",
              "      <td>5.51</td>\n",
              "      <td>N</td>\n",
              "      <td>N</td>\n",
              "      <td>0.846100</td>\n",
              "      <td>MBA</td>\n",
              "      <td>0.267535</td>\n",
              "      <td>1345.619196</td>\n",
              "      <td>140.419656</td>\n",
              "    </tr>\n",
              "    <tr>\n",
              "      <th>2</th>\n",
              "      <td>2.654331</td>\n",
              "      <td>0.090145</td>\n",
              "      <td>3.563413</td>\n",
              "      <td>45.778003</td>\n",
              "      <td>193.449778</td>\n",
              "      <td>2.415057</td>\n",
              "      <td>2.893605</td>\n",
              "      <td>4.324549</td>\n",
              "      <td>57981.0</td>\n",
              "      <td>0</td>\n",
              "      <td>2320</td>\n",
              "      <td>7.40</td>\n",
              "      <td>N</td>\n",
              "      <td>N</td>\n",
              "      <td>1.402870</td>\n",
              "      <td>MBA</td>\n",
              "      <td>0.227914</td>\n",
              "      <td>1579.541423</td>\n",
              "      <td>105.723603</td>\n",
              "    </tr>\n",
              "    <tr>\n",
              "      <th>3</th>\n",
              "      <td>2.554114</td>\n",
              "      <td>0.072696</td>\n",
              "      <td>6.082523</td>\n",
              "      <td>356.341767</td>\n",
              "      <td>63.363240</td>\n",
              "      <td>2.368441</td>\n",
              "      <td>2.739786</td>\n",
              "      <td>4.081958</td>\n",
              "      <td>59923.0</td>\n",
              "      <td>0</td>\n",
              "      <td>2318</td>\n",
              "      <td>5.85</td>\n",
              "      <td>N</td>\n",
              "      <td>N</td>\n",
              "      <td>1.387100</td>\n",
              "      <td>MBA</td>\n",
              "      <td>0.241459</td>\n",
              "      <td>1490.935075</td>\n",
              "      <td>284.235315</td>\n",
              "    </tr>\n",
              "    <tr>\n",
              "      <th>4</th>\n",
              "      <td>2.365572</td>\n",
              "      <td>0.127581</td>\n",
              "      <td>2.095744</td>\n",
              "      <td>307.468613</td>\n",
              "      <td>87.426207</td>\n",
              "      <td>2.063770</td>\n",
              "      <td>2.667374</td>\n",
              "      <td>3.638417</td>\n",
              "      <td>58325.0</td>\n",
              "      <td>0</td>\n",
              "      <td>3332</td>\n",
              "      <td>7.57</td>\n",
              "      <td>N</td>\n",
              "      <td>N</td>\n",
              "      <td>1.070900</td>\n",
              "      <td>MBA</td>\n",
              "      <td>0.270894</td>\n",
              "      <td>1328.931884</td>\n",
              "      <td>29.097935</td>\n",
              "    </tr>\n",
              "    <tr>\n",
              "      <th>5</th>\n",
              "      <td>2.687383</td>\n",
              "      <td>0.105948</td>\n",
              "      <td>5.496017</td>\n",
              "      <td>184.361310</td>\n",
              "      <td>330.676144</td>\n",
              "      <td>2.402660</td>\n",
              "      <td>2.972106</td>\n",
              "      <td>4.405576</td>\n",
              "      <td>56799.0</td>\n",
              "      <td>0</td>\n",
              "      <td>3250</td>\n",
              "      <td>8.51</td>\n",
              "      <td>N</td>\n",
              "      <td>N</td>\n",
              "      <td>1.414350</td>\n",
              "      <td>MBA</td>\n",
              "      <td>0.223722</td>\n",
              "      <td>1609.136457</td>\n",
              "      <td>126.686961</td>\n",
              "    </tr>\n",
              "    <tr>\n",
              "      <th>6</th>\n",
              "      <td>2.746824</td>\n",
              "      <td>0.304906</td>\n",
              "      <td>18.369263</td>\n",
              "      <td>358.210032</td>\n",
              "      <td>47.796533</td>\n",
              "      <td>1.909301</td>\n",
              "      <td>3.584347</td>\n",
              "      <td>4.552547</td>\n",
              "      <td>56148.0</td>\n",
              "      <td>0</td>\n",
              "      <td>1777</td>\n",
              "      <td>8.46</td>\n",
              "      <td>N</td>\n",
              "      <td>N</td>\n",
              "      <td>0.959267</td>\n",
              "      <td>MBA</td>\n",
              "      <td>0.216500</td>\n",
              "      <td>1662.817848</td>\n",
              "      <td>299.729035</td>\n",
              "    </tr>\n",
              "    <tr>\n",
              "      <th>7</th>\n",
              "      <td>2.525788</td>\n",
              "      <td>0.172002</td>\n",
              "      <td>2.349674</td>\n",
              "      <td>181.087489</td>\n",
              "      <td>177.417167</td>\n",
              "      <td>2.091347</td>\n",
              "      <td>2.960230</td>\n",
              "      <td>4.014243</td>\n",
              "      <td>56821.0</td>\n",
              "      <td>0</td>\n",
              "      <td>3401</td>\n",
              "      <td>8.36</td>\n",
              "      <td>N</td>\n",
              "      <td>N</td>\n",
              "      <td>1.086710</td>\n",
              "      <td>MBA</td>\n",
              "      <td>0.245532</td>\n",
              "      <td>1466.202262</td>\n",
              "      <td>69.900434</td>\n",
              "    </tr>\n",
              "    <tr>\n",
              "      <th>8</th>\n",
              "      <td>2.881429</td>\n",
              "      <td>0.129807</td>\n",
              "      <td>4.975208</td>\n",
              "      <td>3.081370</td>\n",
              "      <td>314.687300</td>\n",
              "      <td>2.507399</td>\n",
              "      <td>3.255460</td>\n",
              "      <td>4.891254</td>\n",
              "      <td>58323.0</td>\n",
              "      <td>0</td>\n",
              "      <td>2953</td>\n",
              "      <td>7.84</td>\n",
              "      <td>N</td>\n",
              "      <td>N</td>\n",
              "      <td>1.496610</td>\n",
              "      <td>MBA</td>\n",
              "      <td>0.201508</td>\n",
              "      <td>1786.530377</td>\n",
              "      <td>52.278845</td>\n",
              "    </tr>\n",
              "    <tr>\n",
              "      <th>9</th>\n",
              "      <td>2.756530</td>\n",
              "      <td>0.173322</td>\n",
              "      <td>23.262422</td>\n",
              "      <td>316.004320</td>\n",
              "      <td>266.975061</td>\n",
              "      <td>2.278762</td>\n",
              "      <td>3.234297</td>\n",
              "      <td>4.576697</td>\n",
              "      <td>56731.0</td>\n",
              "      <td>0</td>\n",
              "      <td>2419</td>\n",
              "      <td>7.30</td>\n",
              "      <td>N</td>\n",
              "      <td>N</td>\n",
              "      <td>1.409540</td>\n",
              "      <td>MBA</td>\n",
              "      <td>0.215358</td>\n",
              "      <td>1671.638659</td>\n",
              "      <td>264.052853</td>\n",
              "    </tr>\n",
              "  </tbody>\n",
              "</table>\n",
              "</div>"
            ],
            "text/plain": [
              "          a         e          i  ...         n          per          ma\n",
              "0  2.361418  0.088721   7.141771  ...  0.271609  1325.432765   95.861936\n",
              "1  2.385334  0.231206   5.523651  ...  0.267535  1345.619196  140.419656\n",
              "2  2.654331  0.090145   3.563413  ...  0.227914  1579.541423  105.723603\n",
              "3  2.554114  0.072696   6.082523  ...  0.241459  1490.935075  284.235315\n",
              "4  2.365572  0.127581   2.095744  ...  0.270894  1328.931884   29.097935\n",
              "5  2.687383  0.105948   5.496017  ...  0.223722  1609.136457  126.686961\n",
              "6  2.746824  0.304906  18.369263  ...  0.216500  1662.817848  299.729035\n",
              "7  2.525788  0.172002   2.349674  ...  0.245532  1466.202262   69.900434\n",
              "8  2.881429  0.129807   4.975208  ...  0.201508  1786.530377   52.278845\n",
              "9  2.756530  0.173322  23.262422  ...  0.215358  1671.638659  264.052853\n",
              "\n",
              "[10 rows x 19 columns]"
            ]
          },
          "metadata": {
            "tags": []
          },
          "execution_count": 12
        }
      ]
    },
    {
      "cell_type": "code",
      "metadata": {
        "colab": {
          "base_uri": "https://localhost:8080/"
        },
        "id": "IFrpcyBogPAM",
        "outputId": "cac624ca-59ba-46b6-98fe-c5ff1fbaa450"
      },
      "source": [
        "df.info()"
      ],
      "execution_count": 13,
      "outputs": [
        {
          "output_type": "stream",
          "text": [
            "<class 'pandas.core.frame.DataFrame'>\n",
            "Int64Index: 97615 entries, 0 to 99999\n",
            "Data columns (total 19 columns):\n",
            " #   Column          Non-Null Count  Dtype  \n",
            "---  ------          --------------  -----  \n",
            " 0   a               97615 non-null  float64\n",
            " 1   e               97615 non-null  float64\n",
            " 2   i               97615 non-null  float64\n",
            " 3   om              97615 non-null  float64\n",
            " 4   w               97615 non-null  float64\n",
            " 5   q               97615 non-null  float64\n",
            " 6   ad              97615 non-null  float64\n",
            " 7   per_y           97615 non-null  float64\n",
            " 8   data_arc        97615 non-null  float64\n",
            " 9   condition_code  97615 non-null  object \n",
            " 10  n_obs_used      97615 non-null  int64  \n",
            " 11  H               97615 non-null  float64\n",
            " 12  neo             97615 non-null  object \n",
            " 13  pha             97615 non-null  object \n",
            " 14  moid            97615 non-null  float64\n",
            " 15  class           97615 non-null  object \n",
            " 16  n               97615 non-null  float64\n",
            " 17  per             97615 non-null  float64\n",
            " 18  ma              97615 non-null  float64\n",
            "dtypes: float64(14), int64(1), object(4)\n",
            "memory usage: 14.9+ MB\n"
          ],
          "name": "stdout"
        }
      ]
    },
    {
      "cell_type": "code",
      "metadata": {
        "id": "4rLQOEjJDkfT"
      },
      "source": [
        "#@\n",
        "# Correlation matrix\n",
        "def plotCorrelationMatrix(df, graphWidth):\n",
        "    filename = df.dataframeName\n",
        "    df = df.dropna('columns') # drop columns with NaN\n",
        "    df = df[[col for col in df if df[col].nunique() > 1]] # keep columns where there are more than 1 unique values\n",
        "    if df.shape[1] < 2:\n",
        "        print(f'No correlation plots shown: The number of non-NaN or constant columns ({df.shape[1]}) is less than 2')\n",
        "        return\n",
        "    corr = df.corr()\n",
        "    plt.figure(num=None, figsize=(graphWidth, graphWidth), dpi=80, facecolor='w', edgecolor='k')\n",
        "    corrMat = plt.matshow(corr, fignum = 1)\n",
        "    plt.xticks(range(len(corr.columns)), corr.columns, rotation=90)\n",
        "    plt.yticks(range(len(corr.columns)), corr.columns)\n",
        "    plt.gca().xaxis.tick_bottom()\n",
        "    plt.colorbar(corrMat)\n",
        "    plt.title(f'Correlation Matrix for {filename}', fontsize=15)\n",
        "    plt.show()"
      ],
      "execution_count": 14,
      "outputs": []
    },
    {
      "cell_type": "code",
      "metadata": {
        "id": "9nqcAcurDyjF"
      },
      "source": [
        "#@\n",
        "# Scatter and density plots\n",
        "def plotScatterMatrix(df, plotSize, textSize):\n",
        "    df = df.select_dtypes(include =[np.number]) # keep only numerical columns\n",
        "    # Remove rows and columns that would lead to df being singular\n",
        "    df = df.dropna('columns')\n",
        "    df = df[[col for col in df if df[col].nunique() > 1]] # keep columns where there are more than 1 unique values\n",
        "    columnNames = list(df)\n",
        "    if len(columnNames) > 10: # reduce the number of columns for matrix inversion of kernel density plots\n",
        "        columnNames = columnNames[:10]\n",
        "    df = df[columnNames]\n",
        "    ax = pd.plotting.scatter_matrix(df, alpha=0.75, figsize=[plotSize, plotSize], diagonal='kde')\n",
        "    corrs = df.corr().values\n",
        "    for i, j in zip(*plt.np.triu_indices_from(ax, k = 1)):\n",
        "        ax[i, j].annotate('Corr. coef = %.3f' % corrs[i, j], (0.8, 0.2), xycoords='axes fraction', ha='center', va='center', size=textSize)\n",
        "    plt.suptitle('Scatter and Density Plot')\n",
        "    plt.show()"
      ],
      "execution_count": 15,
      "outputs": []
    },
    {
      "cell_type": "code",
      "metadata": {
        "colab": {
          "base_uri": "https://localhost:8080/",
          "height": 1000
        },
        "id": "FApuOZhqwNpu",
        "outputId": "99b7bb17-df57-4ea2-a2aa-a2fd4d2ad307"
      },
      "source": [
        "df.hist(bins = 50, figsize = (20,20))"
      ],
      "execution_count": 16,
      "outputs": [
        {
          "output_type": "execute_result",
          "data": {
            "text/plain": [
              "array([[<matplotlib.axes._subplots.AxesSubplot object at 0x7f6e6b54e630>,\n",
              "        <matplotlib.axes._subplots.AxesSubplot object at 0x7f6e6b4ac898>,\n",
              "        <matplotlib.axes._subplots.AxesSubplot object at 0x7f6e6b4efa90>,\n",
              "        <matplotlib.axes._subplots.AxesSubplot object at 0x7f6e6b49b080>],\n",
              "       [<matplotlib.axes._subplots.AxesSubplot object at 0x7f6e6b4492e8>,\n",
              "        <matplotlib.axes._subplots.AxesSubplot object at 0x7f6e6b3fa550>,\n",
              "        <matplotlib.axes._subplots.AxesSubplot object at 0x7f6e6b3aa7b8>,\n",
              "        <matplotlib.axes._subplots.AxesSubplot object at 0x7f6e6b3d99e8>],\n",
              "       [<matplotlib.axes._subplots.AxesSubplot object at 0x7f6e6b3d9a58>,\n",
              "        <matplotlib.axes._subplots.AxesSubplot object at 0x7f6e6b33eef0>,\n",
              "        <matplotlib.axes._subplots.AxesSubplot object at 0x7f6e6b2f8198>,\n",
              "        <matplotlib.axes._subplots.AxesSubplot object at 0x7f6e6b2aa400>],\n",
              "       [<matplotlib.axes._subplots.AxesSubplot object at 0x7f6e6b2d8668>,\n",
              "        <matplotlib.axes._subplots.AxesSubplot object at 0x7f6e6b2888d0>,\n",
              "        <matplotlib.axes._subplots.AxesSubplot object at 0x7f6e6b23bb38>,\n",
              "        <matplotlib.axes._subplots.AxesSubplot object at 0x7f6e6b1ecda0>]],\n",
              "      dtype=object)"
            ]
          },
          "metadata": {
            "tags": []
          },
          "execution_count": 16
        },
        {
          "output_type": "display_data",
          "data": {
            "image/png": "[encoded data removed]",
            "text/plain": [
              "<Figure size 1440x1440 with 16 Axes>"
            ]
          },
          "metadata": {
            "tags": [],
            "needs_background": "light"
          }
        }
      ]
    },
    {
      "cell_type": "code",
      "metadata": {
        "colab": {
          "base_uri": "https://localhost:8080/",
          "height": 769
        },
        "id": "NzZS5XcaD8_i",
        "outputId": "b3b1ceef-7de8-4c15-c5d5-ab854321cd6d"
      },
      "source": [
        "import seaborn as sns\n",
        "#dataset.info()\n",
        "numerics = ['int16', 'int32', 'int64', 'float16', 'float32', 'float64']\n",
        "num_data = df.select_dtypes(include=numerics)\n",
        "#num_data.info()\n",
        "plt.subplots(figsize=(15,12))\n",
        "sns.heatmap(num_data.corr(),annot=True,annot_kws={'size':10})\n",
        "#num_data.corr()"
      ],
      "execution_count": 17,
      "outputs": [
        {
          "output_type": "execute_result",
          "data": {
            "text/plain": [
              "<matplotlib.axes._subplots.AxesSubplot at 0x7f6e5a2d9b00>"
            ]
          },
          "metadata": {
            "tags": []
          },
          "execution_count": 17
        },
        {
          "output_type": "display_data",
          "data": {
            "image/png": "[encoded data removed]",
            "text/plain": [
              "<Figure size 1080x864 with 2 Axes>"
            ]
          },
          "metadata": {
            "tags": [],
            "needs_background": "light"
          }
        }
      ]
    },
    {
      "cell_type": "code",
      "metadata": {
        "id": "_MmskrqmFWr2"
      },
      "source": [
        "#High correlation between moid-Q, per_y-per, ad-per"
      ],
      "execution_count": 18,
      "outputs": []
    },
    {
      "cell_type": "code",
      "metadata": {
        "id": "qI5Z0Hrwv2ge"
      },
      "source": [
        "\n",
        "df = df.drop(['neo','pha', 'class'],axis=1)\n"
      ],
      "execution_count": 19,
      "outputs": []
    },
    {
      "cell_type": "code",
      "metadata": {
        "colab": {
          "base_uri": "https://localhost:8080/"
        },
        "id": "a6jWIiHyG0pI",
        "outputId": "50d1e6d3-833e-4dbd-99d0-9a2f1b387105"
      },
      "source": [
        "df.info()"
      ],
      "execution_count": 20,
      "outputs": [
        {
          "output_type": "stream",
          "text": [
            "<class 'pandas.core.frame.DataFrame'>\n",
            "Int64Index: 97615 entries, 0 to 99999\n",
            "Data columns (total 16 columns):\n",
            " #   Column          Non-Null Count  Dtype  \n",
            "---  ------          --------------  -----  \n",
            " 0   a               97615 non-null  float64\n",
            " 1   e               97615 non-null  float64\n",
            " 2   i               97615 non-null  float64\n",
            " 3   om              97615 non-null  float64\n",
            " 4   w               97615 non-null  float64\n",
            " 5   q               97615 non-null  float64\n",
            " 6   ad              97615 non-null  float64\n",
            " 7   per_y           97615 non-null  float64\n",
            " 8   data_arc        97615 non-null  float64\n",
            " 9   condition_code  97615 non-null  object \n",
            " 10  n_obs_used      97615 non-null  int64  \n",
            " 11  H               97615 non-null  float64\n",
            " 12  moid            97615 non-null  float64\n",
            " 13  n               97615 non-null  float64\n",
            " 14  per             97615 non-null  float64\n",
            " 15  ma              97615 non-null  float64\n",
            "dtypes: float64(14), int64(1), object(1)\n",
            "memory usage: 12.7+ MB\n"
          ],
          "name": "stdout"
        }
      ]
    },
    {
      "cell_type": "code",
      "metadata": {
        "colab": {
          "base_uri": "https://localhost:8080/"
        },
        "id": "HoQLHPN3M51-",
        "outputId": "29c61f78-3d08-468d-92bb-8da4fa389d89"
      },
      "source": [
        "X = df.iloc[:, [0,5]].values\n",
        "X"
      ],
      "execution_count": 36,
      "outputs": [
        {
          "output_type": "execute_result",
          "data": {
            "text/plain": [
              "array([[2.3614179 , 2.15190945],\n",
              "       [2.38533381, 1.83383082],\n",
              "       [2.65433089, 2.41505656],\n",
              "       ...,\n",
              "       [2.43475047, 0.99231204],\n",
              "       [1.08272872, 0.80957362],\n",
              "       [1.41239505, 0.88590558]])"
            ]
          },
          "metadata": {
            "tags": []
          },
          "execution_count": 36
        }
      ]
    },
    {
      "cell_type": "markdown",
      "metadata": {
        "id": "WbUMUY1ZHs9I"
      },
      "source": [
        "## Clustering using K-Means(Scikit)"
      ]
    },
    {
      "cell_type": "code",
      "metadata": {
        "id": "b_LMn8mrHrSc"
      },
      "source": [
        "from sklearn.cluster import KMeans\n",
        "from sklearn import metrics\n",
        "import numpy as np\n",
        "import matplotlib.pyplot as plt\n",
        "from matplotlib import style"
      ],
      "execution_count": 22,
      "outputs": []
    },
    {
      "cell_type": "code",
      "metadata": {
        "colab": {
          "base_uri": "https://localhost:8080/",
          "height": 295
        },
        "id": "Du2v5fyJHzTT",
        "outputId": "635c62d1-07bb-496d-a713-c5bd10f9a96e"
      },
      "source": [
        "from sklearn.cluster import KMeans\n",
        "# Within-Cluster-Sum-of-Squares \n",
        "wcss = []\n",
        "for i in range(1, 11):\n",
        "    kmeans = KMeans(n_clusters = i, init = 'k-means++', random_state = 42)\n",
        "    kmeans.fit(X)\n",
        "    wcss.append(kmeans.inertia_)\n",
        "plt.plot(range(1, 11), wcss)\n",
        "plt.title('The Elbow Method')\n",
        "plt.xlabel('Number of clusters')\n",
        "plt.ylabel('WCSS')\n",
        "plt.show()"
      ],
      "execution_count": 23,
      "outputs": [
        {
          "output_type": "display_data",
          "data": {
            "image/png": "[encoded data removed]",
            "text/plain": [
              "<Figure size 432x288 with 1 Axes>"
            ]
          },
          "metadata": {
            "tags": [],
            "needs_background": "light"
          }
        }
      ]
    },
    {
      "cell_type": "code",
      "metadata": {
        "id": "1hR5UhhzJ_eG"
      },
      "source": [
        "kmeans = KMeans(n_clusters = 3, init = 'k-means++', random_state = 42)\n",
        "y_kmeans = kmeans.fit_predict(X)"
      ],
      "execution_count": 24,
      "outputs": []
    },
    {
      "cell_type": "code",
      "metadata": {
        "colab": {
          "base_uri": "https://localhost:8080/",
          "height": 621
        },
        "id": "hFPUpp7XOACg",
        "outputId": "0d571bc1-b0c1-4a67-dc01-638d8aa259f9"
      },
      "source": [
        "plt.figure(figsize=(15,10))\n",
        "plt.scatter(X[y_kmeans == 0, 0], X[y_kmeans == 0, 1], s = 100, c = 'red', label = 'Cluster 1')\n",
        "plt.scatter(X[y_kmeans == 1, 0], X[y_kmeans == 1, 1], s = 100, c = 'blue', label = 'Cluster 2')\n",
        "plt.scatter(X[y_kmeans == 2, 0], X[y_kmeans == 2, 1], s = 100, c = 'green', label = 'Cluster 3')\n",
        "#plt.scatter(X[y_kmeans == 3, 0], X[y_kmeans == 3, 1], s = 100, c = 'cyan', label = 'Cluster 4')\n",
        "#plt.scatter(X[y_kmeans == 4, 0], X[y_kmeans == 4, 1], s = 100, c = 'magenta', label = 'Cluster 5')\n",
        "plt.scatter(kmeans.cluster_centers_[:, 0], kmeans.cluster_centers_[:, 1], s = 150, c = 'yellow', label = 'Centroids')\n",
        "plt.title('Asteroid KMeans Clusters - Semi-Major axis vs Eccentricity')\n",
        "plt.xlabel('Semi-Major axis')\n",
        "plt.ylabel('Eccentricity')\n",
        "plt.legend()\n",
        "plt.show()"
      ],
      "execution_count": 25,
      "outputs": [
        {
          "output_type": "display_data",
          "data": {
            "image/png": "[encoded data removed]",
            "text/plain": [
              "<Figure size 1080x720 with 1 Axes>"
            ]
          },
          "metadata": {
            "tags": [],
            "needs_background": "light"
          }
        }
      ]
    },
    {
      "cell_type": "markdown",
      "metadata": {
        "id": "MUy1Kq6NWbA8"
      },
      "source": [
        "K-Means using Pytorch"
      ]
    },
    {
      "cell_type": "code",
      "metadata": {
        "colab": {
          "base_uri": "https://localhost:8080/"
        },
        "id": "Ro72A4rqXSpq",
        "outputId": "e240a697-ba99-4f2f-af53-63026d24a4e6"
      },
      "source": [
        "!pip install kmeans-pytorch"
      ],
      "execution_count": 40,
      "outputs": [
        {
          "output_type": "stream",
          "text": [
            "Collecting kmeans-pytorch\n",
            "  Downloading https://files.pythonhosted.org/packages/b5/c9/eb5b82e7e9741e61acf1aff70530a08810aa0c7e2272c534ff7a150fc5bd/kmeans_pytorch-0.3-py3-none-any.whl\n",
            "Installing collected packages: kmeans-pytorch\n",
            "Successfully installed kmeans-pytorch-0.3\n"
          ],
          "name": "stdout"
        }
      ]
    },
    {
      "cell_type": "code",
      "metadata": {
        "id": "qnUxINyoXV3x"
      },
      "source": [
        "import torch\n",
        "import numpy as np\n",
        "import matplotlib.pyplot as plt\n",
        "from kmeans_pytorch import kmeans, kmeans_predict"
      ],
      "execution_count": 42,
      "outputs": []
    },
    {
      "cell_type": "code",
      "metadata": {
        "id": "79oYDCg8XhOi"
      },
      "source": [
        "# data\n",
        "data_size, dims, num_clusters = X, 2, 3\n",
        "x = torch.from_numpy(X)"
      ],
      "execution_count": 43,
      "outputs": []
    },
    {
      "cell_type": "code",
      "metadata": {
        "colab": {
          "base_uri": "https://localhost:8080/"
        },
        "id": "DkWsDVfgXiLE",
        "outputId": "0978cde8-0a4f-4478-d78c-c1101a0b6317"
      },
      "source": [
        "# k-means\n",
        "cluster_ids_x, cluster_centers = kmeans(\n",
        "    X=x, num_clusters=num_clusters, distance='euclidean'\n",
        ")"
      ],
      "execution_count": 44,
      "outputs": [
        {
          "output_type": "stream",
          "text": [
            "[running kmeans]: 1it [00:00,  6.05it/s, center_shift=10.238055, iteration=1, tol=0.000100]"
          ],
          "name": "stderr"
        },
        {
          "output_type": "stream",
          "text": [
            "running k-means on cpu..\n"
          ],
          "name": "stdout"
        },
        {
          "output_type": "stream",
          "text": [
            "[running kmeans]: 8it [00:00, 16.68it/s, center_shift=0.000038, iteration=8, tol=0.000100]\n"
          ],
          "name": "stderr"
        }
      ]
    },
    {
      "cell_type": "code",
      "metadata": {
        "colab": {
          "base_uri": "https://localhost:8080/"
        },
        "id": "vyoV75LsXxSq",
        "outputId": "e238769a-73b2-4266-f96d-74b8fb174e31"
      },
      "source": [
        "# cluster IDs and cluster centers\n",
        "print(cluster_ids_x)\n",
        "print(cluster_centers)"
      ],
      "execution_count": 45,
      "outputs": [
        {
          "output_type": "stream",
          "text": [
            "tensor([2, 2, 1,  ..., 2, 2, 2])\n",
            "tensor([[53.3125, 36.7986],\n",
            "        [ 3.0657,  2.6978],\n",
            "        [ 2.4173,  1.9744]])\n"
          ],
          "name": "stdout"
        }
      ]
    },
    {
      "cell_type": "code",
      "metadata": {
        "colab": {
          "base_uri": "https://localhost:8080/"
        },
        "id": "iIc3fr8cX2e_",
        "outputId": "40bb1933-19f6-4e0a-ecff-bf7901088403"
      },
      "source": [
        "# more data\n",
        "y = np.random.randn(3, dims) / 6\n",
        "y_kmeans = torch.from_numpy(y)\n",
        "# predict cluster ids for y\n",
        "cluster_ids_y = kmeans_predict(\n",
        "    y_kmeans, cluster_centers, 'euclidean'\n",
        ")\n",
        "print(cluster_ids_y)"
      ],
      "execution_count": 46,
      "outputs": [
        {
          "output_type": "stream",
          "text": [
            "predicting on cpu..\n",
            "tensor([2, 2, 2])\n"
          ],
          "name": "stdout"
        }
      ]
    },
    {
      "cell_type": "code",
      "metadata": {
        "colab": {
          "base_uri": "https://localhost:8080/",
          "height": 631
        },
        "id": "llu7TXslYDOF",
        "outputId": "6cea9fd5-f805-422a-f3a1-c9fa56b6f2f9"
      },
      "source": [
        "# plot\n",
        "plt.figure(figsize=(10, 7), dpi=100)\n",
        "plt.scatter(x[:, 0], x[:, 1], c=cluster_ids_x, cmap='cool')\n",
        "plt.scatter(y[:, 0], y[:, 1], c=cluster_ids_y, cmap='cool')\n",
        "plt.scatter(cluster_centers[:, 0], cluster_centers[:, 1], c='yellow', alpha=0.6, edgecolors='black', linewidths=2)\n",
        "plt.title('Asteroid KMeans Clusters - Semi-Major axis vs Eccentricity')\n",
        "plt.xlabel('Semi-Major axis')\n",
        "plt.ylabel('Eccentricity')\n",
        "plt.show()"
      ],
      "execution_count": 47,
      "outputs": [
        {
          "output_type": "display_data",
          "data": {
            "image/png": "[encoded data removed]",
            "text/plain": [
              "<Figure size 1000x700 with 1 Axes>"
            ]
          },
          "metadata": {
            "tags": [],
            "needs_background": "light"
          }
        }
      ]
    },
    {
      "cell_type": "markdown",
      "metadata": {
        "id": "80e_BfvePRsq"
      },
      "source": [
        "Clustering using OPTICS"
      ]
    },
    {
      "cell_type": "code",
      "metadata": {
        "id": "hT77UdBbPP-C"
      },
      "source": [
        "from sklearn.cluster import OPTICS, cluster_optics_dbscan\n",
        "import matplotlib.gridspec as gridspec"
      ],
      "execution_count": 29,
      "outputs": []
    },
    {
      "cell_type": "code",
      "metadata": {
        "id": "_v2RZHTcQBoc"
      },
      "source": [
        "clust = OPTICS(min_samples=50, xi=.05, min_cluster_size=.05)\n",
        "clust.fit(X)"
      ],
      "execution_count": null,
      "outputs": []
    },
    {
      "cell_type": "code",
      "metadata": {
        "id": "LoEHcvp6RSOs"
      },
      "source": [
        "# print('Estimated number of clusters: %d' % n_clusters_)\n",
        "# print('Estimated number of noise points: %d' % n_noise_)"
      ],
      "execution_count": 28,
      "outputs": []
    }
  ]
}